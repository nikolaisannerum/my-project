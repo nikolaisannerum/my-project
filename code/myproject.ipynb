{
 "cells": [
  {
   "cell_type": "code",
   "execution_count": 5,
   "id": "068d5273",
   "metadata": {},
   "outputs": [],
   "source": [
    "import pandas as pd\n",
    "data = pd.read_csv(\"data/mydata.csv\")"
   ]
  },
  {
   "cell_type": "code",
   "execution_count": 6,
   "id": "3bebe1ba",
   "metadata": {},
   "outputs": [],
   "source": [
    "import numpy\n",
    "\n",
    "time_average = numpy.mean(data[\"Time\"])\n",
    "\n",
    "temp_average = numpy.mean(data[\"temp\"])"
   ]
  },
  {
   "cell_type": "code",
   "execution_count": 7,
   "id": "17afb28c",
   "metadata": {},
   "outputs": [],
   "source": [
    "sttemp = 0\n",
    "for index,t in enumerate(data[\"Time\"]):\n",
    "    temp = data[\"temp\"][index]\n",
    "    ttemp = t * temp\n",
    "    sttemp = sttemp + ttemp\n",
    "top = sttemp - 11 * time_average * temp_average\n",
    "\n",
    "\n",
    "stsq = 0\n",
    "for t in data[\"Time\"]:\n",
    "    tsq = pow(t,2)\n",
    "    stsq = stsq + tsq\n",
    "\n",
    "time_average_sq = pow(time_average,2)\n",
    "\n",
    "bottom = stsq - 11 * time_average_sq"
   ]
  },
  {
   "cell_type": "code",
   "execution_count": 8,
   "id": "45499ad8",
   "metadata": {},
   "outputs": [
    {
     "name": "stdout",
     "output_type": "stream",
     "text": [
      "In a function of the form y=ax+b, that describes the temperature in celsius as a function of the time in seconds, the a value is:\n",
      "0.03778787878787879\n",
      "and the b-value is:\n",
      "22.759090909090908\n"
     ]
    }
   ],
   "source": [
    "a = top / bottom\n",
    "b = temp_average - a * time_average\n",
    "\n",
    "print(\"In a function of the form y=ax+b, that describes the temperature in celsius as a function of the time in seconds, the a value is:\")\n",
    "print(a)\n",
    "print(\"and the b-value is:\")\n",
    "print(b)"
   ]
  },
  {
   "cell_type": "code",
   "execution_count": 9,
   "id": "53154380",
   "metadata": {},
   "outputs": [
    {
     "name": "stdout",
     "output_type": "stream",
     "text": [
      "The deviation between theoretical value and measured value is 8.700090606924329 %\n"
     ]
    }
   ],
   "source": [
    "voltage = 14.44\n",
    "resistance = 5.6\n",
    "masswater = 0.216605\n",
    "waterheatcapacity = 4185\n",
    "\n",
    "theoretical_a = pow(voltage,2) / (resistance * masswater * waterheatcapacity)\n",
    "\n",
    "deviation = ((theoretical_a - a) / a) * 100\n",
    "print(\"The deviation between theoretical value and measured value is\", deviation, \"%\")"
   ]
  },
  {
   "cell_type": "code",
   "execution_count": 10,
   "id": "d5ce717a",
   "metadata": {},
   "outputs": [
    {
     "data": {
      "image/png": "[encoded data removed]",
      "text/plain": [
       "<Figure size 432x288 with 1 Axes>"
      ]
     },
     "metadata": {
      "needs_background": "light"
     },
     "output_type": "display_data"
    },
    {
     "data": {
      "text/plain": [
       "<Figure size 432x288 with 0 Axes>"
      ]
     },
     "metadata": {},
     "output_type": "display_data"
    }
   ],
   "source": [
    "import matplotlib.pyplot as plt\n",
    "import numpy as np\n",
    "x = np.linspace(-20, 320,100)\n",
    "y = a*x+b\n",
    "plt.plot(x, y, '-r', label='y=ax+b')\n",
    "plt.title('Graph of y=ax+b')\n",
    "plt.xlabel('Time', color='#1C2833')\n",
    "plt.ylabel('temp', color='#1C2833')\n",
    "plt.legend(loc='upper left')\n",
    "plt.grid()\n",
    "plt.show()\n",
    "plt.savefig(\"plot.png\")"
   ]
  },
  {
   "cell_type": "code",
   "execution_count": 11,
   "id": "474597fb",
   "metadata": {},
   "outputs": [
    {
     "data": {
      "image/png": "[encoded data removed]",
      "text/plain": [
       "<Figure size 432x288 with 1 Axes>"
      ]
     },
     "metadata": {
      "needs_background": "light"
     },
     "output_type": "display_data"
    }
   ],
   "source": [
    "import matplotlib.pyplot as plt\n",
    "plt.scatter(data[\"Time\"], data[\"temp\"])\n",
    "plt.savefig(\"plot_data.png\")"
   ]
  },
  {
   "cell_type": "code",
   "execution_count": null,
   "id": "6c6d47ed",
   "metadata": {},
   "outputs": [],
   "source": []
  }
 ],
 "metadata": {
  "kernelspec": {
   "display_name": "Python 3",
   "language": "python",
   "name": "python3"
  },
  "language_info": {
   "codemirror_mode": {
    "name": "ipython",
    "version": 3
   },
   "file_extension": ".py",
   "mimetype": "text/x-python",
   "name": "python",
   "nbconvert_exporter": "python",
   "pygments_lexer": "ipython3",
   "version": "3.8.8"
  }
 },
 "nbformat": 4,
 "nbformat_minor": 5
}
